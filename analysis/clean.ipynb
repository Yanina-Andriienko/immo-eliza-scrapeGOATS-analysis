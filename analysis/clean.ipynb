{
 "cells": [
  {
   "cell_type": "code",
   "execution_count": 19,
   "metadata": {},
   "outputs": [],
   "source": [
    "import pandas as pd\n",
    "import numpy as np\n",
    "import re"
   ]
  },
  {
   "cell_type": "markdown",
   "metadata": {},
   "source": [
    "Import all the necessary libraries."
   ]
  },
  {
   "cell_type": "code",
   "execution_count": 20,
   "metadata": {},
   "outputs": [],
   "source": [
    "# set the path to the data that needs to be cleaned\n",
    "path = \"../data/raw/houses_moreinfo.csv\""
   ]
  },
  {
   "cell_type": "code",
   "execution_count": 21,
   "metadata": {},
   "outputs": [],
   "source": [
    "# read the data\n",
    "df = pd.read_csv(path)"
   ]
  },
  {
   "cell_type": "code",
   "execution_count": 22,
   "metadata": {},
   "outputs": [
    {
     "name": "stdout",
     "output_type": "stream",
     "text": [
      "   id        city                                                 \\\n",
      "0    1882546  Wenduine                                      ...    \n",
      "1    2784938  Heist-aan-Zee                                 ...    \n",
      "2    4679861  Oostende                                      ...    \n",
      "3    5650273  Dilsen-Stokkem                                ...    \n",
      "4    6349237  Corswarem                                     ...    \n",
      "\n",
      "   postal_code   district            province            price      \\\n",
      "0          8420  Oostend               West Flanders       163000    \n",
      "1          8301  Brugge                West Flanders       108000    \n",
      "2          8400  Oostend               West Flanders       330000    \n",
      "3          3650  Maaseik             Limburg               535000    \n",
      "4          4257  Waremme               Liège                         \n",
      "\n",
      "   type_sale         subtype                sale_type   state_construction   \\\n",
      "0  HOUSE             CHALET                 FOR_SALE    AS_NEW                \n",
      "1  HOUSE             BUNGALOW               FOR_SALE    AS_NEW                \n",
      "2  HOUSE             HOUSE                  FOR_SALE    GOOD                  \n",
      "3  HOUSE             APARTMENT_BLOCK        FOR_SALE                          \n",
      "4  HOUSE_GROUP       HOUSE_GROUP            FOR_SALE                          \n",
      "\n",
      "   ... swimmingpool   has_balcony   has_terrace   has_attic   has_basement   \\\n",
      "0  ...             0                                                          \n",
      "1  ...             0                                                          \n",
      "2  ...             0                          1                               \n",
      "3  ...             0                                                          \n",
      "4  ...             0                                                          \n",
      "\n",
      "   construction_year   epc      heating   life_annuity   area_total  \n",
      "0               2023            GAS                   0         155  \n",
      "1               2023            GAS                   0         170  \n",
      "2                      B                              0          65  \n",
      "3               1988   B        GAS                   0           0  \n",
      "4                                                     0              \n",
      "\n",
      "[5 rows x 33 columns]\n"
     ]
    }
   ],
   "source": [
    "# print the first 5 rows of the dataframe\n",
    "print(df.head())"
   ]
  },
  {
   "cell_type": "code",
   "execution_count": 23,
   "metadata": {},
   "outputs": [
    {
     "name": "stdout",
     "output_type": "stream",
     "text": [
      "Index(['id       ', 'city                                               ',\n",
      "       'postal_code ', 'district          ', 'province          ', 'price    ',\n",
      "       'type_sale       ', 'subtype              ', 'sale_type ',\n",
      "       'state_construction ', 'living_area ', 'terrace_area ', 'garden_area ',\n",
      "       'rooms ', 'bedrooms ', 'bathrooms ', 'livingroom_surface ',\n",
      "       'kitchen_surface ', 'facades ', 'has_garden ', 'kitchen ', 'furnished ',\n",
      "       'fireplace ', 'swimmingpool ', 'has_balcony ', 'has_terrace ',\n",
      "       'has_attic ', 'has_basement ', 'construction_year ', 'epc    ',\n",
      "       'heating  ', 'life_annuity ', 'area_total'],\n",
      "      dtype='object')\n"
     ]
    }
   ],
   "source": [
    "# print out the columns of the dataframe\n",
    "print(df.columns)"
   ]
  },
  {
   "cell_type": "markdown",
   "metadata": {},
   "source": [
    "Define the functions to clean the data."
   ]
  },
  {
   "cell_type": "code",
   "execution_count": 24,
   "metadata": {},
   "outputs": [],
   "source": [
    "def strip_spaces(value):\n",
    "    \"\"\"Strip leading and trailing white spaces.\"\"\"\n",
    "    if isinstance(value, str):\n",
    "        return re.sub(r\"\\s+\", \" \", value).strip()\n",
    "    return value\n",
    "\n",
    "\n",
    "def trim_whitespace(df):\n",
    "    \"\"\"Trim leading and trailing white spaces from all string columns and column names.\"\"\"\n",
    "    # Trim whitespaces from column names\n",
    "    df.columns = df.columns.map(strip_spaces)\n",
    "\n",
    "    # Trim whitespaces from string values in the DataFrame\n",
    "    df = df.apply(lambda x: x.apply(strip_spaces))\n",
    "\n",
    "    return df"
   ]
  },
  {
   "cell_type": "code",
   "execution_count": 27,
   "metadata": {},
   "outputs": [],
   "source": [
    "def replace_empty_with_nan(df):\n",
    "    \"\"\"Replace empty strings with NaN.\"\"\"\n",
    "    df.replace(\"\", np.nan, inplace=True)\n",
    "    return df"
   ]
  },
  {
   "cell_type": "code",
   "execution_count": 28,
   "metadata": {},
   "outputs": [],
   "source": [
    "def calculate_missing_values(df):\n",
    "    \"\"\"Calculate the proportion of missing values per column.\"\"\"\n",
    "    missing_values = df.isnull().mean() * 100\n",
    "    print(\"Proportion of missing values per column:\")\n",
    "    print(missing_values)\n",
    "    return missing_values"
   ]
  },
  {
   "cell_type": "code",
   "execution_count": 29,
   "metadata": {},
   "outputs": [],
   "source": [
    "def strip_price(df):\n",
    "    \"\"\"Strip leading and trailing whitespaces from 'price' column.\"\"\"\n",
    "    if df[\"price\"].dtype == \"object\":\n",
    "        df[\"price\"] = df[\"price\"].str.strip()\n",
    "    return df"
   ]
  },
  {
   "cell_type": "code",
   "execution_count": 30,
   "metadata": {},
   "outputs": [],
   "source": [
    "def convert_price_to_numeric(df):\n",
    "    \"\"\"Convert 'price' column to numeric.\"\"\"\n",
    "    df[\"price\"] = pd.to_numeric(df[\"price\"], errors=\"coerce\")\n",
    "    return df"
   ]
  },
  {
   "cell_type": "code",
   "execution_count": 31,
   "metadata": {},
   "outputs": [],
   "source": [
    "def drop_missing_price(df):\n",
    "    \"\"\"Drop rows with missing 'price' values.\"\"\"\n",
    "    df.dropna(subset=[\"price\"], inplace=True)\n",
    "    return df"
   ]
  },
  {
   "cell_type": "code",
   "execution_count": 32,
   "metadata": {},
   "outputs": [],
   "source": [
    "def drop_life_annuity(df):\n",
    "    \"\"\"Drop rows where 'life_annuity' column equals 1.\"\"\"\n",
    "    df = df[df[\"life_annuity\"] != 1]\n",
    "    return df"
   ]
  },
  {
   "cell_type": "code",
   "execution_count": 33,
   "metadata": {},
   "outputs": [],
   "source": [
    "def drop_subtype(df):\n",
    "    \"\"\"Drop rows where 'subtype' column equals 'APARTMENT_BLOCK'.\"\"\"\n",
    "    df = df[df[\"subtype\"] != \"APARTMENT_BLOCK\"]\n",
    "    return df"
   ]
  },
  {
   "cell_type": "code",
   "execution_count": 34,
   "metadata": {},
   "outputs": [],
   "source": [
    "def drop_specified_columns(df):\n",
    "    \"\"\"Drop specified columns.\"\"\"\n",
    "    df.drop(\n",
    "        [\"type_sale\", \"sale_type\", \"has_balcony\", \"life_annuity\"], axis=1, inplace=True\n",
    "    )\n",
    "    return df"
   ]
  },
  {
   "cell_type": "markdown",
   "metadata": {},
   "source": [
    "Call the functions and save it as a csv file."
   ]
  },
  {
   "cell_type": "code",
   "execution_count": 35,
   "metadata": {},
   "outputs": [],
   "source": [
    "def clean_dataframe(df):\n",
    "    \"\"\"Clean the DataFrame and output as a CSV file.\"\"\"\n",
    "    df = strip_price(df)\n",
    "    df = convert_price_to_numeric(df)\n",
    "    df = drop_missing_price(df)\n",
    "    df = drop_life_annuity(df)\n",
    "    df = drop_subtype(df)\n",
    "    df = drop_specified_columns(df)\n",
    "    df = trim_whitespace(df)\n",
    "    df = replace_empty_with_nan(df)\n",
    "    missing_values = calculate_missing_values(df)\n",
    "    print(f'the missing values are: {missing_values}')\n",
    "    print(\"Cleaning complete.\")\n",
    "\n",
    "    # Save the cleaned DataFrame as a CSV file\n",
    "    df.to_csv(\"cleaned_dataframe.csv\", index=False)\n",
    "\n",
    "    return df"
   ]
  },
  {
   "cell_type": "markdown",
   "metadata": {},
   "source": [
    "Call the functions to clean the data."
   ]
  },
  {
   "cell_type": "code",
   "execution_count": 36,
   "metadata": {},
   "outputs": [
    {
     "name": "stdout",
     "output_type": "stream",
     "text": [
      "Proportion of missing values per column:\n",
      "id                     0.000000\n",
      "city                   0.000000\n",
      "postal_code            0.000000\n",
      "district               0.000000\n",
      "province               0.000000\n",
      "price                  0.000000\n",
      "subtype                0.000000\n",
      "state_construction    27.821720\n",
      "living_area           14.166828\n",
      "terrace_area          75.198952\n",
      "garden_area           72.076378\n",
      "rooms                 72.115198\n",
      "bedrooms               0.000000\n",
      "bathrooms             13.065314\n",
      "livingroom_surface    60.231464\n",
      "kitchen_surface       63.659744\n",
      "facades               21.084045\n",
      "has_garden            65.877329\n",
      "kitchen                0.000000\n",
      "furnished              0.000000\n",
      "fireplace              0.000000\n",
      "swimmingpool           0.000000\n",
      "has_terrace           50.718168\n",
      "has_attic             71.278144\n",
      "has_basement          61.000582\n",
      "construction_year     44.138199\n",
      "epc                   19.485151\n",
      "heating               32.768828\n",
      "area_total             0.000000\n",
      "dtype: float64\n",
      "the missing values are: id                     0.000000\n",
      "city                   0.000000\n",
      "postal_code            0.000000\n",
      "district               0.000000\n",
      "province               0.000000\n",
      "price                  0.000000\n",
      "subtype                0.000000\n",
      "state_construction    27.821720\n",
      "living_area           14.166828\n",
      "terrace_area          75.198952\n",
      "garden_area           72.076378\n",
      "rooms                 72.115198\n",
      "bedrooms               0.000000\n",
      "bathrooms             13.065314\n",
      "livingroom_surface    60.231464\n",
      "kitchen_surface       63.659744\n",
      "facades               21.084045\n",
      "has_garden            65.877329\n",
      "kitchen                0.000000\n",
      "furnished              0.000000\n",
      "fireplace              0.000000\n",
      "swimmingpool           0.000000\n",
      "has_terrace           50.718168\n",
      "has_attic             71.278144\n",
      "has_basement          61.000582\n",
      "construction_year     44.138199\n",
      "epc                   19.485151\n",
      "heating               32.768828\n",
      "area_total             0.000000\n",
      "dtype: float64\n",
      "Cleaning complete.\n"
     ]
    }
   ],
   "source": [
    "df = clean_dataframe(df)"
   ]
  }
 ],
 "metadata": {
  "kernelspec": {
   "display_name": "Python 3",
   "language": "python",
   "name": "python3"
  },
  "language_info": {
   "codemirror_mode": {
    "name": "ipython",
    "version": 3
   },
   "file_extension": ".py",
   "mimetype": "text/x-python",
   "name": "python",
   "nbconvert_exporter": "python",
   "pygments_lexer": "ipython3",
   "version": "3.11.6"
  }
 },
 "nbformat": 4,
 "nbformat_minor": 2
}
