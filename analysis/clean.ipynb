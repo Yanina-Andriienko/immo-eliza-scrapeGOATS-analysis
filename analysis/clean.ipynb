{
 "cells": [
  {
   "cell_type": "code",
   "execution_count": 1,
   "metadata": {},
   "outputs": [],
   "source": [
    "import pandas as pd\n",
    "import numpy as np\n",
    "import re"
   ]
  },
  {
   "cell_type": "markdown",
   "metadata": {},
   "source": [
    "Import all the necessary libraries."
   ]
  },
  {
   "cell_type": "code",
   "execution_count": 2,
   "metadata": {},
   "outputs": [],
   "source": [
    "# set the path to the data that needs to be cleaned\n",
    "path = \"../data/raw/houses_moreinfo.csv\""
   ]
  },
  {
   "cell_type": "code",
   "execution_count": 3,
   "metadata": {},
   "outputs": [],
   "source": [
    "# read the data\n",
    "df = pd.read_csv(path)"
   ]
  },
  {
   "cell_type": "code",
   "execution_count": 4,
   "metadata": {},
   "outputs": [
    {
     "name": "stdout",
     "output_type": "stream",
     "text": [
      "   id        city                                                 \\\n",
      "0    1882546  Wenduine                                      ...    \n",
      "1    2784938  Heist-aan-Zee                                 ...    \n",
      "2    4679861  Oostende                                      ...    \n",
      "3    5650273  Dilsen-Stokkem                                ...    \n",
      "4    6349237  Corswarem                                     ...    \n",
      "\n",
      "   postal_code   district            province            price      \\\n",
      "0          8420  Oostend               West Flanders       163000    \n",
      "1          8301  Brugge                West Flanders       108000    \n",
      "2          8400  Oostend               West Flanders       330000    \n",
      "3          3650  Maaseik             Limburg               535000    \n",
      "4          4257  Waremme               Liège                         \n",
      "\n",
      "   type_sale         subtype                sale_type   state_construction   \\\n",
      "0  HOUSE             CHALET                 FOR_SALE    AS_NEW                \n",
      "1  HOUSE             BUNGALOW               FOR_SALE    AS_NEW                \n",
      "2  HOUSE             HOUSE                  FOR_SALE    GOOD                  \n",
      "3  HOUSE             APARTMENT_BLOCK        FOR_SALE                          \n",
      "4  HOUSE_GROUP       HOUSE_GROUP            FOR_SALE                          \n",
      "\n",
      "   ... swimmingpool   has_balcony   has_terrace   has_attic   has_basement   \\\n",
      "0  ...             0                                                          \n",
      "1  ...             0                                                          \n",
      "2  ...             0                          1                               \n",
      "3  ...             0                                                          \n",
      "4  ...             0                                                          \n",
      "\n",
      "   construction_year   epc      heating   life_annuity   area_total  \n",
      "0               2023            GAS                   0         155  \n",
      "1               2023            GAS                   0         170  \n",
      "2                      B                              0          65  \n",
      "3               1988   B        GAS                   0           0  \n",
      "4                                                     0              \n",
      "\n",
      "[5 rows x 33 columns]\n"
     ]
    }
   ],
   "source": [
    "# print the first 5 rows of the dataframe\n",
    "print(df.head())"
   ]
  },
  {
   "cell_type": "code",
   "execution_count": 5,
   "metadata": {},
   "outputs": [
    {
     "name": "stdout",
     "output_type": "stream",
     "text": [
      "Index(['id       ', 'city                                               ',\n",
      "       'postal_code ', 'district          ', 'province          ', 'price    ',\n",
      "       'type_sale       ', 'subtype              ', 'sale_type ',\n",
      "       'state_construction ', 'living_area ', 'terrace_area ', 'garden_area ',\n",
      "       'rooms ', 'bedrooms ', 'bathrooms ', 'livingroom_surface ',\n",
      "       'kitchen_surface ', 'facades ', 'has_garden ', 'kitchen ', 'furnished ',\n",
      "       'fireplace ', 'swimmingpool ', 'has_balcony ', 'has_terrace ',\n",
      "       'has_attic ', 'has_basement ', 'construction_year ', 'epc    ',\n",
      "       'heating  ', 'life_annuity ', 'area_total'],\n",
      "      dtype='object')\n"
     ]
    }
   ],
   "source": [
    "# print out the columns of the dataframe\n",
    "print(df.columns)"
   ]
  },
  {
   "cell_type": "markdown",
   "metadata": {},
   "source": [
    "Define the functions to clean the data."
   ]
  },
  {
   "cell_type": "code",
   "execution_count": 6,
   "metadata": {},
   "outputs": [],
   "source": [
    "def strip_spaces(value):\n",
    "    \"\"\"Strip leading and trailing white spaces.\"\"\"\n",
    "    if isinstance(value, str):\n",
    "        return re.sub(r\"\\s+\", \" \", value).strip()\n",
    "    return value\n",
    "\n",
    "\n",
    "def trim_whitespace(df):\n",
    "    \"\"\"Trim leading and trailing white spaces from all string columns and column names.\"\"\"\n",
    "    # Trim whitespaces from column names\n",
    "    df.columns = df.columns.map(strip_spaces)\n",
    "\n",
    "    # Trim whitespaces from string values in the DataFrame\n",
    "    df = df.apply(lambda x: x.apply(strip_spaces))\n",
    "\n",
    "    return df"
   ]
  },
  {
   "cell_type": "code",
   "execution_count": 7,
   "metadata": {},
   "outputs": [],
   "source": [
    "df = trim_whitespace(df)"
   ]
  },
  {
   "cell_type": "code",
   "execution_count": 8,
   "metadata": {},
   "outputs": [
    {
     "name": "stdout",
     "output_type": "stream",
     "text": [
      "Index(['id', 'city', 'postal_code', 'district', 'province', 'price',\n",
      "       'type_sale', 'subtype', 'sale_type', 'state_construction',\n",
      "       'living_area', 'terrace_area', 'garden_area', 'rooms', 'bedrooms',\n",
      "       'bathrooms', 'livingroom_surface', 'kitchen_surface', 'facades',\n",
      "       'has_garden', 'kitchen', 'furnished', 'fireplace', 'swimmingpool',\n",
      "       'has_balcony', 'has_terrace', 'has_attic', 'has_basement',\n",
      "       'construction_year', 'epc', 'heating', 'life_annuity', 'area_total'],\n",
      "      dtype='object')\n"
     ]
    }
   ],
   "source": [
    "# print out the columns of the dataframe\n",
    "print(df.columns)"
   ]
  },
  {
   "cell_type": "code",
   "execution_count": 9,
   "metadata": {},
   "outputs": [],
   "source": [
    "def replace_empty_with_nan(df):\n",
    "    \"\"\"Replace empty strings with NaN.\"\"\"\n",
    "    df.replace(\"\", np.nan, inplace=True)\n",
    "    return df"
   ]
  },
  {
   "cell_type": "code",
   "execution_count": 10,
   "metadata": {},
   "outputs": [],
   "source": [
    "def calculate_missing_values(df):\n",
    "    \"\"\"Calculate the proportion of missing values per column.\"\"\"\n",
    "    missing_values = df.isnull().mean() * 100\n",
    "    print(\"Proportion of missing values per column:\")\n",
    "    print(missing_values)\n",
    "    return missing_values"
   ]
  },
  {
   "cell_type": "code",
   "execution_count": 11,
   "metadata": {},
   "outputs": [],
   "source": [
    "def strip_price(df):\n",
    "    \"\"\"Strip leading and trailing whitespaces from 'price' column.\"\"\"\n",
    "    if df[\"price\"].dtype == \"object\":\n",
    "        df[\"price\"] = df[\"price\"].str.strip()\n",
    "    return df"
   ]
  },
  {
   "cell_type": "code",
   "execution_count": 12,
   "metadata": {},
   "outputs": [],
   "source": [
    "def convert_price_to_numeric(df):\n",
    "    \"\"\"Convert 'price' column to numeric.\"\"\"\n",
    "    df[\"price\"] = pd.to_numeric(df[\"price\"], errors=\"coerce\")\n",
    "    return df"
   ]
  },
  {
   "cell_type": "code",
   "execution_count": 13,
   "metadata": {},
   "outputs": [],
   "source": [
    "def drop_missing_price(df):\n",
    "    \"\"\"Drop rows with missing 'price' values.\"\"\"\n",
    "    df.dropna(subset=[\"price\"], inplace=True)\n",
    "    return df"
   ]
  },
  {
   "cell_type": "code",
   "execution_count": 14,
   "metadata": {},
   "outputs": [],
   "source": [
    "def drop_life_annuity(df):\n",
    "    \"\"\"Drop rows where 'life_annuity' column equals 1.\"\"\"\n",
    "    df = df[df[\"life_annuity\"] != 1]\n",
    "    return df"
   ]
  },
  {
   "cell_type": "code",
   "execution_count": 15,
   "metadata": {},
   "outputs": [],
   "source": [
    "def drop_subtype(df):\n",
    "    \"\"\"Drop rows where 'subtype' column equals 'APARTMENT_BLOCK'.\"\"\"\n",
    "    df = df[df[\"subtype\"] != \"APARTMENT_BLOCK\"]\n",
    "    return df"
   ]
  },
  {
   "cell_type": "code",
   "execution_count": 16,
   "metadata": {},
   "outputs": [],
   "source": [
    "def drop_specified_columns(df):\n",
    "    \"\"\"Drop specified columns.\"\"\"\n",
    "    df.drop(\n",
    "        [\"type_sale\", \"sale_type\", \"has_balcony\", \"life_annuity\"], axis=1, inplace=True\n",
    "    )\n",
    "    return df"
   ]
  },
  {
   "cell_type": "markdown",
   "metadata": {},
   "source": [
    "Call the functions and save it as a csv file."
   ]
  },
  {
   "cell_type": "code",
   "execution_count": 17,
   "metadata": {},
   "outputs": [],
   "source": [
    "def clean_dataframe(df):\n",
    "    \"\"\"Clean the DataFrame and output as a CSV file.\"\"\"\n",
    "    df = strip_price(df)\n",
    "    df = convert_price_to_numeric(df)\n",
    "    df = drop_missing_price(df)\n",
    "    df = drop_life_annuity(df)\n",
    "    df = drop_subtype(df)\n",
    "    df = drop_specified_columns(df)\n",
    "    df = trim_whitespace(df)\n",
    "    df = replace_empty_with_nan(df)\n",
    "    missing_values = calculate_missing_values(df)\n",
    "    print(f'the missing values are: {missing_values}')\n",
    "    print(\"Cleaning complete.\")\n",
    "\n",
    "    # Save the cleaned DataFrame as a CSV file\n",
    "    df.to_csv(\"cleaned_dataframe.csv\", index=False)\n",
    "\n",
    "    return df"
   ]
  },
  {
   "cell_type": "markdown",
   "metadata": {},
   "source": [
    "Call the functions to clean the data."
   ]
  },
  {
   "cell_type": "code",
   "execution_count": 18,
   "metadata": {},
   "outputs": [
    {
     "ename": "NameError",
     "evalue": "name 'np' is not defined",
     "output_type": "error",
     "traceback": [
      "\u001b[1;31m---------------------------------------------------------------------------\u001b[0m",
      "\u001b[1;31mNameError\u001b[0m                                 Traceback (most recent call last)",
      "Cell \u001b[1;32mIn[18], line 1\u001b[0m\n\u001b[1;32m----> 1\u001b[0m df \u001b[38;5;241m=\u001b[39m \u001b[43mclean_dataframe\u001b[49m\u001b[43m(\u001b[49m\u001b[43mdf\u001b[49m\u001b[43m)\u001b[49m\n",
      "Cell \u001b[1;32mIn[17], line 10\u001b[0m, in \u001b[0;36mclean_dataframe\u001b[1;34m(df)\u001b[0m\n\u001b[0;32m      8\u001b[0m df \u001b[38;5;241m=\u001b[39m drop_specified_columns(df)\n\u001b[0;32m      9\u001b[0m df \u001b[38;5;241m=\u001b[39m trim_whitespace(df)\n\u001b[1;32m---> 10\u001b[0m df \u001b[38;5;241m=\u001b[39m \u001b[43mreplace_empty_with_nan\u001b[49m\u001b[43m(\u001b[49m\u001b[43mdf\u001b[49m\u001b[43m)\u001b[49m\n\u001b[0;32m     11\u001b[0m missing_values \u001b[38;5;241m=\u001b[39m calculate_missing_values(df)\n\u001b[0;32m     12\u001b[0m \u001b[38;5;28mprint\u001b[39m(\u001b[38;5;124mf\u001b[39m\u001b[38;5;124m'\u001b[39m\u001b[38;5;124mthe missing values are: \u001b[39m\u001b[38;5;132;01m{\u001b[39;00mmissing_values\u001b[38;5;132;01m}\u001b[39;00m\u001b[38;5;124m'\u001b[39m)\n",
      "Cell \u001b[1;32mIn[9], line 3\u001b[0m, in \u001b[0;36mreplace_empty_with_nan\u001b[1;34m(df)\u001b[0m\n\u001b[0;32m      1\u001b[0m \u001b[38;5;28;01mdef\u001b[39;00m \u001b[38;5;21mreplace_empty_with_nan\u001b[39m(df):\n\u001b[0;32m      2\u001b[0m \u001b[38;5;250m    \u001b[39m\u001b[38;5;124;03m\"\"\"Replace empty strings with NaN.\"\"\"\u001b[39;00m\n\u001b[1;32m----> 3\u001b[0m     df\u001b[38;5;241m.\u001b[39mreplace(\u001b[38;5;124m\"\u001b[39m\u001b[38;5;124m\"\u001b[39m, \u001b[43mnp\u001b[49m\u001b[38;5;241m.\u001b[39mnan, inplace\u001b[38;5;241m=\u001b[39m\u001b[38;5;28;01mTrue\u001b[39;00m)\n\u001b[0;32m      4\u001b[0m     \u001b[38;5;28;01mreturn\u001b[39;00m df\n",
      "\u001b[1;31mNameError\u001b[0m: name 'np' is not defined"
     ]
    }
   ],
   "source": [
    "df = clean_dataframe(df)"
   ]
  }
 ],
 "metadata": {
  "kernelspec": {
   "display_name": "Python 3",
   "language": "python",
   "name": "python3"
  },
  "language_info": {
   "codemirror_mode": {
    "name": "ipython",
    "version": 3
   },
   "file_extension": ".py",
   "mimetype": "text/x-python",
   "name": "python",
   "nbconvert_exporter": "python",
   "pygments_lexer": "ipython3",
   "version": "3.11.6"
  }
 },
 "nbformat": 4,
 "nbformat_minor": 2
}
